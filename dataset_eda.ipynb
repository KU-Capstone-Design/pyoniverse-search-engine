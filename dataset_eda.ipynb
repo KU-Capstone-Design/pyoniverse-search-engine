{
 "cells": [
  {
   "cell_type": "code",
   "execution_count": 2,
   "metadata": {},
   "outputs": [
    {
     "data": {
      "text/plain": [
       "{'crawled_info': {'spider': 'gs25web',\n",
       "  'id': 'GD_8809038475901_001',\n",
       "  'url': 'http://gs25.gsretail.com/products/youus-freshfoodDetail-search?CSRFToken=04e9fb45-f509-43df-8ade-c86665b4d18d'},\n",
       " 'created_at': 1693965848,\n",
       " 'description': None,\n",
       " 'events': [{'brand': 1, 'id': 2},\n",
       "  {'brand': 1, 'id': 4},\n",
       "  {'brand': 1, 'id': 5}],\n",
       " 'image': {'thumb': 'https://image.woodongs.com/imgsvr/item/GD_8809038475901_001.jpg',\n",
       "  'others': []},\n",
       " 'name': 'Y(P)육즙팡팡미니치즈비엔나140G',\n",
       " 'price': {'value': 4200.0, 'currency': 1},\n",
       " 'updated_at': 1694460503,\n",
       " 'category': 4,\n",
       " 'tags': [],\n",
       " 'discounted_price': None}"
      ]
     },
     "execution_count": 2,
     "metadata": {},
     "output_type": "execute_result"
    }
   ],
   "source": [
    "import json\n",
    "\n",
    "with open('./data/products.json', 'r') as file :\n",
    "    data = json.load(file)\n",
    "\n",
    "data[0]"
   ]
  },
  {
   "cell_type": "code",
   "execution_count": 3,
   "metadata": {},
   "outputs": [],
   "source": [
    "item_name = []\n",
    "for instance in data :\n",
    "    item_name.append(instance['name'])"
   ]
  },
  {
   "cell_type": "code",
   "execution_count": 6,
   "metadata": {},
   "outputs": [],
   "source": [
    "from sentence_transformers import SentenceTransformer\n",
    "sroberta_multitask = SentenceTransformer('jhgan/ko-sroberta-multitask')\n",
    "#sbert_nli = SentenceTransformer('jhgan/ko-sbert-nli')\n",
    "#sroberta_nli = SentenceTransformer('jhgan/ko-sroberta-nli')\n",
    "#sroberta_sts = SentenceTransformer('jhgan/ko-sroberta-sts')\n",
    "\n",
    "sroberta_multitask._save_checkpoint('./models/sroberta_multitask.pt', checkpoint_save_total_limit=None, step='0')"
   ]
  },
  {
   "cell_type": "code",
   "execution_count": 3,
   "metadata": {},
   "outputs": [],
   "source": [
    "import numpy as np\n",
    "from tqdm import tqdm\n",
    "\n",
    "## model : sentence embedding model\n",
    "## item_list : item names\n",
    "## return : [{embedding, name}, ..]\n",
    "def make_embedding(model, item_list) :\n",
    "    embeddings = []\n",
    "    for name in tqdm(item_list) :\n",
    "        embeddings.append({'embedding': model.encode(name), 'name': name})\n",
    "    return embeddings\n",
    "\n",
    "def find_item(model, query, embedding_list) :\n",
    "    query_embedding = model.encode(query)\n",
    "\n",
    "    score_name = []\n",
    "    for instance in embedding_list :\n",
    "        score = np.dot(query_embedding, instance['embedding'])\n",
    "        score_name.append({'score': score, 'name': instance['name']})\n",
    "\n",
    "    score_name = sorted(score_name, key=(lambda x: x['score']), reverse=True)\n",
    "\n",
    "    return score_name[:10]"
   ]
  },
  {
   "cell_type": "code",
   "execution_count": 6,
   "metadata": {},
   "outputs": [
    {
     "name": "stderr",
     "output_type": "stream",
     "text": [
      "100%|██████████| 3272/3272 [02:56<00:00, 18.58it/s]\n",
      "100%|██████████| 3272/3272 [03:22<00:00, 16.15it/s]\n",
      "100%|██████████| 3272/3272 [03:25<00:00, 15.94it/s]\n",
      "100%|██████████| 3272/3272 [03:25<00:00, 15.94it/s]\n"
     ]
    }
   ],
   "source": [
    "sroberta_multitask_embedding = make_embedding(sroberta_multitask, item_name)\n",
    "sbert_nli_embedding = make_embedding(sbert_nli, item_name)\n",
    "sroberta_nli_embedding = make_embedding(sroberta_nli, item_name)\n",
    "sroberta_sts_embedding = make_embedding(sroberta_sts, item_name)"
   ]
  },
  {
   "cell_type": "code",
   "execution_count": 12,
   "metadata": {},
   "outputs": [],
   "source": [
    "import numpy as np\n",
    "np.save('./data/sroberta_multitask.npy', sroberta_multitask_embedding)\n",
    "np.save('./data/sbert_nli.npy', sbert_nli_embedding)\n",
    "np.save('./data/sroberta_nli.npy', sroberta_nli_embedding)\n",
    "np.save('./data/sroberta_sts_embedding.npy', sroberta_sts_embedding)\n"
   ]
  },
  {
   "cell_type": "code",
   "execution_count": 11,
   "metadata": {},
   "outputs": [],
   "source": [
    "sroberta_multitask_embedding = np.load('./data/sroberta_multitask.npy', allow_pickle=True)\n",
    "sbert_nli_embedding = np.load('./data/sbert_nli.npy', allow_pickle=True)\n",
    "sroberta_nli_embedding = np.load('./data/sroberta_nli.npy', allow_pickle=True)\n",
    "sroberta_sts_embedding = np.load('./data/sroberta_sts_embedding.npy', allow_pickle=True)\n"
   ]
  },
  {
   "cell_type": "code",
   "execution_count": 12,
   "metadata": {},
   "outputs": [
    {
     "name": "stdout",
     "output_type": "stream",
     "text": [
      "[{'score': 119.61357, 'name': '푸드)스팸간장덮밥'}, {'score': 112.52594, 'name': '그린)스팸김치볶음김밥'}, {'score': 105.87346, 'name': '풀)스팸김치볶음밥1편'}, {'score': 105.18835, 'name': 'CJ)스팸김치볶음밥220g'}, {'score': 104.25098, 'name': '스팸매일함)볶음김치김밥1'}, {'score': 103.165924, 'name': 'CJ)스팸김치볶음밥220G'}, {'score': 100.99123, 'name': '스팸무스비)볶음김치참치'}, {'score': 99.23768, 'name': 'CJ)스팸김치덮밥(컵밥)'}, {'score': 97.01791, 'name': '스팸무스비)강황밥참치마요'}, {'score': 96.73009, 'name': 'CJ)스팸340g'}]\n",
      "[{'score': 408.2221, 'name': '푸드)스팸간장덮밥'}, {'score': 391.71826, 'name': '스팸매일함)볶음김치김밥1'}, {'score': 383.2522, 'name': 'CJ)스팸200g'}, {'score': 382.23895, 'name': '그린)스팸김치볶음김밥'}, {'score': 378.60867, 'name': 'CJ)스팸340g'}, {'score': 376.7536, 'name': '스팸무스비)볶음김치참치'}, {'score': 369.0416, 'name': 'CJ)스팸김치덮밥(컵밥)'}, {'score': 366.92133, 'name': '풀)스팸김치볶음밥1편'}, {'score': 364.7212, 'name': '스팸무스비)강황밥참치마요'}, {'score': 363.9527, 'name': 'CJ)스팸김치볶음밥220g'}]\n",
      "[{'score': 114.28873, 'name': '푸드)스팸간장덮밥'}, {'score': 112.78137, 'name': '스팸매일함)볶음김치김밥1'}, {'score': 112.46861, 'name': '그린)스팸김치볶음김밥'}, {'score': 108.46605, 'name': '풀)스팸김치볶음밥1편'}, {'score': 103.85311, 'name': '스팸무스비)볶음김치참치'}, {'score': 101.28629, 'name': 'CJ)스팸김치볶음밥220g'}, {'score': 101.10944, 'name': 'CJ)스팸김치볶음밥220G'}, {'score': 100.9193, 'name': '스팸무스비)강황밥참치마요'}, {'score': 100.34552, 'name': 'CJ)스팸김치덮밥(컵밥)'}, {'score': 99.5962, 'name': '스팸무스비)닭갈비'}]\n",
      "[{'score': 122.46892, 'name': '푸드)스팸간장덮밥'}, {'score': 118.14613, 'name': '그린)스팸김치볶음김밥'}, {'score': 116.64309, 'name': '스팸매일함)볶음김치김밥1'}, {'score': 112.97863, 'name': '스팸무스비)볶음김치참치'}, {'score': 112.81279, 'name': '풀)스팸김치볶음밥1편'}, {'score': 110.23451, 'name': 'CJ)스팸김치볶음밥220g'}, {'score': 109.76065, 'name': 'CJ)스팸김치덮밥(컵밥)'}, {'score': 107.8857, 'name': 'CJ)스팸김치볶음밥220G'}, {'score': 106.74151, 'name': '스팸무스비)강황밥참치마요'}, {'score': 98.4997, 'name': 'CJ)스팸340g'}]\n"
     ]
    }
   ],
   "source": [
    "query = \"스팸이 들어간 김밥\"\n",
    "model_list = [sroberta_multitask, sbert_nli, sroberta_nli, sroberta_sts]\n",
    "embedding_list = [sroberta_multitask_embedding, sbert_nli_embedding, sroberta_nli_embedding, sroberta_sts_embedding]\n",
    "for model, embeddings in zip(model_list, embedding_list) :\n",
    "    print(find_item(model, query=query, embedding_list=embeddings))"
   ]
  },
  {
   "cell_type": "code",
   "execution_count": 4,
   "metadata": {},
   "outputs": [],
   "source": [
    "from rank_bm25 import BM25Okapi\n",
    "import json\n",
    "\n",
    "with open('./data/products.json', 'r') as file :\n",
    "    data = json.load(file)\n",
    "\n",
    "corpus = []\n",
    "for instance in data :\n",
    "    corpus.append(instance['name'])\n",
    "\n",
    "def tokenizer(sent):\n",
    "  return sent.split(\" \")\n",
    "\n",
    "tokenized_corpus = [tokenizer(doc) for doc in corpus]\n",
    "\n",
    "bm25 = BM25Okapi(tokenized_corpus)"
   ]
  },
  {
   "cell_type": "code",
   "execution_count": 5,
   "metadata": {},
   "outputs": [
    {
     "data": {
      "text/plain": [
       "['뉴트리)비비랩콜라겐3입',\n",
       " '롯데)의성마늘후랑크70G',\n",
       " '대림)크라비아90G',\n",
       " '동원)가쓰오크랩스144G',\n",
       " '삼립)육즙가득로테부어스트70G',\n",
       " '롯데)키스틱55G',\n",
       " '롯데)빅팜60G',\n",
       " '롯데)의성마늘프랑크70G(2입)',\n",
       " '롯데)에센뽀득프랑크70G(2입)',\n",
       " '롯데)마늘앤뽀득프랑크140G']"
      ]
     },
     "execution_count": 5,
     "metadata": {},
     "output_type": "execute_result"
    }
   ],
   "source": [
    "bm25.get_top_n('삼각김밥', corpus,n=10)"
   ]
  },
  {
   "cell_type": "code",
   "execution_count": 1,
   "metadata": {},
   "outputs": [
    {
     "name": "stderr",
     "output_type": "stream",
     "text": [
      "c:\\Users\\bkjeo\\anaconda3\\envs\\korean_ir\\lib\\site-packages\\tqdm\\auto.py:21: TqdmWarning: IProgress not found. Please update jupyter and ipywidgets. See https://ipywidgets.readthedocs.io/en/stable/user_install.html\n",
      "  from .autonotebook import tqdm as notebook_tqdm\n",
      "Asking to truncate to max_length but no maximum length is provided and the model has no predefined maximum length. Default to no truncation.\n"
     ]
    },
    {
     "name": "stdout",
     "output_type": "stream",
     "text": [
      "[0.29856136 0.708414  ]\n"
     ]
    }
   ],
   "source": [
    "from sentence_transformers import CrossEncoder\n",
    "model = CrossEncoder('bongsoo/kpf-cross-encoder-v1')\n",
    "scores = model.predict([('오늘 날씨가 좋다', '오늘 등산을 한다'), ('오늘 날씨가 흐리다', '오늘 비가 내린다')])\n",
    "print(scores)"
   ]
  }
 ],
 "metadata": {
  "kernelspec": {
   "display_name": "base",
   "language": "python",
   "name": "python3"
  },
  "language_info": {
   "codemirror_mode": {
    "name": "ipython",
    "version": 3
   },
   "file_extension": ".py",
   "mimetype": "text/x-python",
   "name": "python",
   "nbconvert_exporter": "python",
   "pygments_lexer": "ipython3",
   "version": "3.10.13"
  },
  "orig_nbformat": 4
 },
 "nbformat": 4,
 "nbformat_minor": 2
}
