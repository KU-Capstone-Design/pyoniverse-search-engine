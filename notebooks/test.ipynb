{
 "cells": [
  {
   "cell_type": "code",
   "execution_count": 1,
   "metadata": {},
   "outputs": [
    {
     "name": "stderr",
     "output_type": "stream",
     "text": [
      "c:\\Users\\bkjeo\\anaconda3\\envs\\korean_ir\\lib\\site-packages\\tqdm\\auto.py:21: TqdmWarning: IProgress not found. Please update jupyter and ipywidgets. See https://ipywidgets.readthedocs.io/en/stable/user_install.html\n",
      "  from .autonotebook import tqdm as notebook_tqdm\n",
      "Asking to truncate to max_length but no maximum length is provided and the model has no predefined maximum length. Default to no truncation.\n"
     ]
    },
    {
     "name": "stdout",
     "output_type": "stream",
     "text": [
      "[0.07503326 0.10772308]\n"
     ]
    }
   ],
   "source": [
    "from sentence_transformers import CrossEncoder\n",
    "model = CrossEncoder(\"bongsoo/kpf-cross-encoder-v1\")\n",
    "scores = model.predict([('치즈 김밥을(를) 구매한다', '전병국을(를) 구매한다'), ('치즈 김밥을(를) 먹는다', '전병국을(를) 먹는다')])\n",
    "print(scores)"
   ]
  },
  {
   "cell_type": "code",
   "execution_count": 24,
   "metadata": {},
   "outputs": [
    {
     "name": "stdout",
     "output_type": "stream",
     "text": [
      "[0.04505423 0.35766682 0.3903203 ]\n"
     ]
    }
   ],
   "source": [
    "scores = model.predict([('전병국', '양반전 복죽 287G'), ('전병국을(를) 구매한다',  '쫄깃롤 만두을(를) 구매한다'), ('편의점에서 전병국을(를) 먹는다', '편의점에서 키리모 찌우동을(를) 먹는다')])\n",
    "print(scores)"
   ]
  },
  {
   "cell_type": "code",
   "execution_count": 25,
   "metadata": {},
   "outputs": [
    {
     "name": "stdout",
     "output_type": "stream",
     "text": [
      "[0.26028943 0.786631   0.83551675]\n"
     ]
    }
   ],
   "source": [
    "scores = model.predict([('키리모 찌우동', '전병국'), ('편의점에서 쫄깃롤 만두 구매한다', '편의점에서 만두 구매한다'), ('편의점에서 쫄깃롤 만두 먹는다', '편의점에서 만두 먹는다')])\n",
    "print(scores)"
   ]
  },
  {
   "cell_type": "code",
   "execution_count": 26,
   "metadata": {},
   "outputs": [
    {
     "data": {
      "text/plain": [
       "0.26028943"
      ]
     },
     "execution_count": 26,
     "metadata": {},
     "output_type": "execute_result"
    }
   ],
   "source": [
    "min(scores)"
   ]
  },
  {
   "cell_type": "code",
   "execution_count": 2,
   "metadata": {},
   "outputs": [
    {
     "name": "stderr",
     "output_type": "stream",
     "text": [
      "Downloading tokenizer_config.json: 100%|██████████| 210/210 [00:00<00:00, 199kB/s]\n",
      "Downloading tokenizer.json: 100%|██████████| 1.65M/1.65M [00:01<00:00, 1.65MB/s]\n",
      "Downloading (…)cial_tokens_map.json: 100%|██████████| 185/185 [00:00<?, ?B/s] \n",
      "Downloading config.json: 100%|██████████| 714/714 [00:00<00:00, 778kB/s]\n",
      "Downloading (…)model.bin.index.json: 100%|██████████| 52.5k/52.5k [00:00<00:00, 269kB/s]\n",
      "Downloading (…)l-00001-of-00003.bin: 100%|██████████| 10.0G/10.0G [07:51<00:00, 21.3MB/s]\n",
      "Downloading (…)l-00002-of-00003.bin: 100%|██████████| 9.93G/9.93G [09:15<00:00, 17.9MB/s]\n",
      "Downloading (…)l-00003-of-00003.bin: 100%|██████████| 6.01G/6.01G [05:01<00:00, 19.9MB/s]\n",
      "Downloading shards: 100%|██████████| 3/3 [22:12<00:00, 444.10s/it]\n",
      "Loading checkpoint shards: 100%|██████████| 3/3 [06:53<00:00, 137.84s/it]\n",
      "Downloading generation_config.json: 100%|██████████| 111/111 [00:00<00:00, 37.1kB/s]\n"
     ]
    }
   ],
   "source": [
    "from transformers import AutoTokenizer, AutoModelForCausalLM\n",
    "\n",
    "tokenizer = AutoTokenizer.from_pretrained(\"nlpai-lab/kullm-polyglot-12.8b-v2\")\n",
    "model = AutoModelForCausalLM.from_pretrained(\"nlpai-lab/kullm-polyglot-12.8b-v2\")"
   ]
  }
 ],
 "metadata": {
  "kernelspec": {
   "display_name": "korean_ir",
   "language": "python",
   "name": "python3"
  },
  "language_info": {
   "codemirror_mode": {
    "name": "ipython",
    "version": 3
   },
   "file_extension": ".py",
   "mimetype": "text/x-python",
   "name": "python",
   "nbconvert_exporter": "python",
   "pygments_lexer": "ipython3",
   "version": "3.10.13"
  }
 },
 "nbformat": 4,
 "nbformat_minor": 2
}
