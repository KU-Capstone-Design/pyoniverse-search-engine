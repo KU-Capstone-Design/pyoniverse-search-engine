{
 "cells": [
  {
   "cell_type": "code",
   "execution_count": 1,
   "metadata": {},
   "outputs": [],
   "source": [
    "import json\n",
    "\n",
    "with open('./data/products.json', 'r') as file :\n",
    "    data = json.load(file)"
   ]
  },
  {
   "cell_type": "code",
   "execution_count": 2,
   "metadata": {},
   "outputs": [
    {
     "name": "stderr",
     "output_type": "stream",
     "text": [
      "100%|██████████| 3272/3272 [05:26<00:00, 10.02it/s]\n"
     ]
    }
   ],
   "source": [
    "from pykospacing import Spacing\n",
    "from tqdm import tqdm\n",
    "\n",
    "spacing = Spacing()\n",
    "product_list = [] # dictionary list {company, product}\n",
    "for instance in tqdm(data) :\n",
    "    name = instance['name']\n",
    "    p = name.find(')')\n",
    "    company = name[:p]\n",
    "    product = spacing(name[p+1:], ignore='none')\n",
    "\n",
    "    product_list.append({'company': company,\n",
    "                         'product': product})\n",
    "\n"
   ]
  },
  {
   "cell_type": "code",
   "execution_count": 3,
   "metadata": {},
   "outputs": [
    {
     "data": {
      "text/plain": [
       "{'company': 'Y(P', 'product': '육즙 팡팡 미니치즈비엔나 140G'}"
      ]
     },
     "execution_count": 3,
     "metadata": {},
     "output_type": "execute_result"
    }
   ],
   "source": [
    "product_list[0]"
   ]
  },
  {
   "cell_type": "code",
   "execution_count": 4,
   "metadata": {},
   "outputs": [],
   "source": [
    "from rank_bm25 import BM25Okapi\n",
    "import json\n",
    "\n",
    "\n",
    "corpus = []\n",
    "for instance in product_list :\n",
    "    corpus.append(instance['product'])\n",
    "\n",
    "def tokenizer(sent):\n",
    "  return sent.split(\" \")\n",
    "\n",
    "tokenized_corpus = [tokenizer(doc) for doc in corpus]\n",
    "\n",
    "bm25 = BM25Okapi(tokenized_corpus)"
   ]
  },
  {
   "cell_type": "code",
   "execution_count": 7,
   "metadata": {},
   "outputs": [
    {
     "name": "stdout",
     "output_type": "stream",
     "text": [
      "['도시락', '돈까스&불백 5찬 도시락', 'NEW의성마늘햄 쌈 도시락', '멘츠카츠&제육 5찬 도시락', '함박&부대 볶음 5찬 도시락', '한 끼 7찬 도시락', '가득 담은 5찬 도시락', '매콤닭다리 7찬 도시락 2.0', '한 끼 경양식 도시락', '한 끼 11찬 도시락']\n"
     ]
    },
    {
     "name": "stderr",
     "output_type": "stream",
     "text": [
      "Asking to truncate to max_length but no maximum length is provided and the model has no predefined maximum length. Default to no truncation.\n"
     ]
    },
    {
     "name": "stdout",
     "output_type": "stream",
     "text": [
      "[{'score': 0.66687495, 'name': '멘츠카츠&제육 5찬 도시락'}, {'score': 0.5455696, 'name': '도시락'}, {'score': 0.5074965, 'name': '가득 담은 5찬 도시락'}, {'score': 0.48636338, 'name': '한 끼 경양식 도시락'}, {'score': 0.40255937, 'name': '한 끼 7찬 도시락'}, {'score': 0.38565454, 'name': '한 끼 11찬 도시락'}, {'score': 0.2665481, 'name': '함박&부대 볶음 5찬 도시락'}, {'score': 0.24097888, 'name': '매콤닭다리 7찬 도시락 2.0'}, {'score': 0.24039179, 'name': '돈까스&불백 5찬 도시락'}, {'score': 0.16403937, 'name': 'NEW의성마늘햄 쌈 도시락'}]\n"
     ]
    }
   ],
   "source": [
    "from sentence_transformers import SentenceTransformer\n",
    "\n",
    "query = \"도시락\"\n",
    "tokenized_query = tokenizer(query)\n",
    "\n",
    "results = bm25.get_top_n(tokenized_query, corpus, n=10)\n",
    "print(results)\n",
    "\n",
    "\n",
    "from sentence_transformers import CrossEncoder\n",
    "model = CrossEncoder('bongsoo/kpf-cross-encoder-v1')\n",
    "scores = model.predict([('제육 도시락', _ ) for _ in results])\n",
    "\n",
    "l = []\n",
    "for i, name in enumerate(results):\n",
    "    l.append({'score': scores[i],\n",
    "              'name': name})\n",
    "\n",
    "score_name = sorted(l, key=(lambda x: x['score']), reverse=True)\n",
    "\n",
    "print(score_name)"
   ]
  },
  {
   "cell_type": "markdown",
   "metadata": {},
   "source": [
    "### Part of Speech indexing"
   ]
  },
  {
   "cell_type": "code",
   "execution_count": 3,
   "metadata": {},
   "outputs": [
    {
     "name": "stdout",
     "output_type": "stream",
     "text": [
      "뉴트리플랜)디쉬(참치&닭가슴살)\n",
      "[('뉴', 'Noun'), ('트리', 'Noun'), ('플랜', 'Noun'), (')', 'Punctuation'), ('디쉬', 'Noun'), ('(', 'Punctuation'), ('참치', 'Noun'), ('&', 'Punctuation'), ('닭', 'Noun'), ('가슴', 'Noun'), ('살', 'Noun'), (')', 'Punctuation')]\n",
      "['뉴', '트리', '플랜', '디쉬', '참치', '닭', '가슴', '살']\n"
     ]
    }
   ],
   "source": [
    "from konlpy.tag import Okt\n",
    "\n",
    "test_idx = 4\n",
    "\n",
    "okt = Okt()\n",
    "malist=okt.pos(data[test_idx]['name'], norm=True, stem=True)\n",
    "\n",
    "processed_list = []\n",
    "for instance in malist :\n",
    "    value = instance[0]\n",
    "    word_type = instance[1]\n",
    "    if word_type=='Noun' or word_type=='Adverb' :\n",
    "        processed_list.append(value)\n",
    "    \n",
    "print(data[test_idx]['name'])\n",
    "print(malist)\n",
    "print(processed_list)"
   ]
  },
  {
   "cell_type": "code",
   "execution_count": 4,
   "metadata": {},
   "outputs": [],
   "source": [
    "from konlpy.tag import Okt\n",
    "\n",
    "okt = Okt()\n",
    "\n",
    "for instance in data :\n",
    "    name = instance['name']"
   ]
  },
  {
   "cell_type": "markdown",
   "metadata": {},
   "source": [
    "### Spacing Example"
   ]
  },
  {
   "cell_type": "code",
   "execution_count": 9,
   "metadata": {},
   "outputs": [
    {
     "name": "stderr",
     "output_type": "stream",
     "text": [
      "100%|██████████| 3272/3272 [02:23<00:00, 22.83it/s]\n"
     ]
    }
   ],
   "source": [
    "from pykospacing import Spacing\n",
    "from tqdm import tqdm\n",
    "\n",
    "spacing = Spacing()\n",
    "\n",
    "spaced_names = []\n",
    "for instance in tqdm(data):\n",
    "    spaced_names.append(spacing(instance['name'], ignore='none'))"
   ]
  },
  {
   "cell_type": "code",
   "execution_count": 17,
   "metadata": {},
   "outputs": [],
   "source": [
    "with open('./results/spaced_names.json', 'w', encoding='UTF-8') as file :\n",
    "    json.dump(spaced_names, file, indent='\\t', ensure_ascii=False)"
   ]
  }
 ],
 "metadata": {
  "kernelspec": {
   "display_name": "korean_ir",
   "language": "python",
   "name": "python3"
  },
  "language_info": {
   "codemirror_mode": {
    "name": "ipython",
    "version": 3
   },
   "file_extension": ".py",
   "mimetype": "text/x-python",
   "name": "python",
   "nbconvert_exporter": "python",
   "pygments_lexer": "ipython3",
   "version": "3.10.13"
  },
  "orig_nbformat": 4
 },
 "nbformat": 4,
 "nbformat_minor": 2
}
