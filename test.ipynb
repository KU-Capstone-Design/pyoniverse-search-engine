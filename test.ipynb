{
 "cells": [
  {
   "cell_type": "code",
   "execution_count": 1,
   "metadata": {},
   "outputs": [
    {
     "name": "stderr",
     "output_type": "stream",
     "text": [
      "c:\\Users\\bkjeo\\anaconda3\\envs\\korean_ir\\lib\\site-packages\\tqdm\\auto.py:21: TqdmWarning: IProgress not found. Please update jupyter and ipywidgets. See https://ipywidgets.readthedocs.io/en/stable/user_install.html\n",
      "  from .autonotebook import tqdm as notebook_tqdm\n",
      "Asking to truncate to max_length but no maximum length is provided and the model has no predefined maximum length. Default to no truncation.\n"
     ]
    },
    {
     "name": "stdout",
     "output_type": "stream",
     "text": [
      "[0.07503326 0.10772308]\n"
     ]
    }
   ],
   "source": [
    "from sentence_transformers import CrossEncoder\n",
    "model = CrossEncoder(\"bongsoo/kpf-cross-encoder-v1\")\n",
    "scores = model.predict([('치즈 김밥을(를) 구매한다', '전병국을(를) 구매한다'), ('치즈 김밥을(를) 먹는다', '전병국을(를) 먹는다')])\n",
    "print(scores)"
   ]
  },
  {
   "cell_type": "code",
   "execution_count": 13,
   "metadata": {},
   "outputs": [
    {
     "name": "stdout",
     "output_type": "stream",
     "text": [
      "[0.26028943 0.35779426 0.42266047]\n"
     ]
    }
   ],
   "source": [
    "scores = model.predict([('쫄깃롤 만두', '초콜릿'), ('편의점에서 쫄깃롤 만두을(를) 구매한다',  '편의점에서 초콜릿을(를) 구매한다'), ('편의점에서 쫄깃롤 만두을(를) 먹는다', '편의점에서 초콜릿을(를) 먹는다')])\n",
    "print(scores)"
   ]
  },
  {
   "cell_type": "code",
   "execution_count": 11,
   "metadata": {},
   "outputs": [
    {
     "name": "stdout",
     "output_type": "stream",
     "text": [
      "[0.26028943 0.786631   0.83551675]\n"
     ]
    }
   ],
   "source": [
    "scores = model.predict([('키리모 찌우동', '전병국'), ('편의점에서 쫄깃롤 만두 구매한다', '편의점에서 만두 구매한다'), ('편의점에서 쫄깃롤 만두 먹는다', '편의점에서 만두 먹는다')])\n",
    "print(scores)"
   ]
  }
 ],
 "metadata": {
  "kernelspec": {
   "display_name": "korean_ir",
   "language": "python",
   "name": "python3"
  },
  "language_info": {
   "codemirror_mode": {
    "name": "ipython",
    "version": 3
   },
   "file_extension": ".py",
   "mimetype": "text/x-python",
   "name": "python",
   "nbconvert_exporter": "python",
   "pygments_lexer": "ipython3",
   "version": "3.10.13"
  }
 },
 "nbformat": 4,
 "nbformat_minor": 2
}
